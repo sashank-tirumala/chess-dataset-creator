{
 "cells": [
  {
   "cell_type": "code",
   "execution_count": 4,
   "id": "0ce55531-fc20-457d-837d-ec722f71ab31",
   "metadata": {},
   "outputs": [],
   "source": [
    "import matplotlib.pyplot as plt\n",
    "import numpy as np\n",
    "from PIL import Image"
   ]
  },
  {
   "cell_type": "code",
   "execution_count": 7,
   "id": "69f569b8-f07f-46b4-a123-9ff831e1fbeb",
   "metadata": {},
   "outputs": [],
   "source": [
    "lichess_img_path = \"/Users/sashanktirumala/Desktop/chess_screen.png\"\n",
    "lichess_img = Image.open(lichess_img_path)\n"
   ]
  },
  {
   "cell_type": "code",
   "execution_count": 8,
   "id": "059694f5-de60-4f22-9668-7586bb75019a",
   "metadata": {},
   "outputs": [
    {
     "data": {
      "text/plain": [
       "array([[[  0,   0,   0, 255],\n",
       "        [  0,   0,   0, 255],\n",
       "        [  0,   0,   0, 255],\n",
       "        ...,\n",
       "        [  0,   0,   0, 255],\n",
       "        [  0,   0,   0, 255],\n",
       "        [  0,   0,   0, 255]],\n",
       "\n",
       "       [[  0,   0,   0, 255],\n",
       "        [  0,   0,   0, 255],\n",
       "        [  0,   0,   0, 255],\n",
       "        ...,\n",
       "        [  0,   0,   0, 255],\n",
       "        [  0,   0,   0, 255],\n",
       "        [  0,   0,   0, 255]],\n",
       "\n",
       "       [[  0,   0,   0, 255],\n",
       "        [  0,   0,   0, 255],\n",
       "        [  0,   0,   0, 255],\n",
       "        ...,\n",
       "        [  0,   0,   0, 255],\n",
       "        [  0,   0,   0, 255],\n",
       "        [  0,   0,   0, 255]],\n",
       "\n",
       "       ...,\n",
       "\n",
       "       [[ 22,  21,  19, 255],\n",
       "        [ 22,  21,  18, 255],\n",
       "        [ 22,  21,  18, 255],\n",
       "        ...,\n",
       "        [ 23,  21,  18, 255],\n",
       "        [ 21,  22,  18, 255],\n",
       "        [ 22,  21,  18, 255]],\n",
       "\n",
       "       [[ 22,  22,  18, 255],\n",
       "        [ 21,  21,  19, 255],\n",
       "        [ 22,  21,  19, 255],\n",
       "        ...,\n",
       "        [ 22,  21,  18, 255],\n",
       "        [ 22,  20,  19, 255],\n",
       "        [ 22,  21,  17, 255]],\n",
       "\n",
       "       [[ 22,  21,  19, 255],\n",
       "        [ 22,  21,  19, 255],\n",
       "        [ 22,  20,  17, 255],\n",
       "        ...,\n",
       "        [ 22,  22,  19, 255],\n",
       "        [ 21,  21,  18, 255],\n",
       "        [ 22,  20,  19, 255]]], shape=(2214, 3420, 4), dtype=uint8)"
      ]
     },
     "execution_count": 8,
     "metadata": {},
     "output_type": "execute_result"
    }
   ],
   "source": []
  },
  {
   "cell_type": "code",
   "execution_count": null,
   "id": "b1d21389-f560-498e-b856-419ca0b0a491",
   "metadata": {},
   "outputs": [],
   "source": []
  }
 ],
 "metadata": {
  "kernelspec": {
   "display_name": "Python 3 (ipykernel)",
   "language": "python",
   "name": "python3"
  },
  "language_info": {
   "codemirror_mode": {
    "name": "ipython",
    "version": 3
   },
   "file_extension": ".py",
   "mimetype": "text/x-python",
   "name": "python",
   "nbconvert_exporter": "python",
   "pygments_lexer": "ipython3",
   "version": "3.10.14"
  }
 },
 "nbformat": 4,
 "nbformat_minor": 5
}
